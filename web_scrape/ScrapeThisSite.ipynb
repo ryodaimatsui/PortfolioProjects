{
 "cells": [
  {
   "cell_type": "markdown",
   "id": "f37b339e",
   "metadata": {},
   "source": [
    "# \"Scrape This Site\": Hockey Teams Data"
   ]
  },
  {
   "cell_type": "code",
   "execution_count": 1,
   "id": "30fcb516",
   "metadata": {},
   "outputs": [],
   "source": [
    "# Import dependencies.\n",
    "\n",
    "from bs4 import BeautifulSoup\n",
    "import requests\n",
    "import pandas as pd"
   ]
  },
  {
   "cell_type": "code",
   "execution_count": 2,
   "id": "99b489eb",
   "metadata": {},
   "outputs": [],
   "source": [
    "# Define the base URL as well as the number of pages to scrape from (i.e., 3 pages out of 25 total).\n",
    "\n",
    "base_url = 'https://www.scrapethissite.com/pages/forms/'\n",
    "page_nums = 3"
   ]
  },
  {
   "cell_type": "code",
   "execution_count": 3,
   "id": "1128db69",
   "metadata": {},
   "outputs": [],
   "source": [
    "# Define a function to set up BeautifulSoup and extract the table on the page.\n",
    "\n",
    "def extract_tables(url):\n",
    "    response = requests.get(url)\n",
    "    soup = BeautifulSoup(response.text, 'html')\n",
    "    table = soup.find('table', class_ = 'table')\n",
    "    df = pd.read_html(str(table))[0]\n",
    "    return df"
   ]
  },
  {
   "cell_type": "code",
   "execution_count": 4,
   "id": "897aaa0f",
   "metadata": {},
   "outputs": [],
   "source": [
    "# Create an empty list to store all 3 tables from across the 3 pages.\n",
    "\n",
    "dataframes = []\n",
    "\n",
    "# Utilize a For Loop to extract the tables on each page. \n",
    "\n",
    "for page in range(1, page_nums+1):\n",
    "    url = base_url + f\"?page_num={page}\"\n",
    "    df_on_page = extract_tables(url)\n",
    "    dataframes.append(df_on_page)"
   ]
  },
  {
   "cell_type": "code",
   "execution_count": 5,
   "id": "cfab6cba",
   "metadata": {},
   "outputs": [
    {
     "data": {
      "text/html": [
       "<div>\n",
       "<style scoped>\n",
       "    .dataframe tbody tr th:only-of-type {\n",
       "        vertical-align: middle;\n",
       "    }\n",
       "\n",
       "    .dataframe tbody tr th {\n",
       "        vertical-align: top;\n",
       "    }\n",
       "\n",
       "    .dataframe thead th {\n",
       "        text-align: right;\n",
       "    }\n",
       "</style>\n",
       "<table border=\"1\" class=\"dataframe\">\n",
       "  <thead>\n",
       "    <tr style=\"text-align: right;\">\n",
       "      <th></th>\n",
       "      <th>Team Name</th>\n",
       "      <th>Year</th>\n",
       "      <th>Wins</th>\n",
       "      <th>Losses</th>\n",
       "      <th>OT Losses</th>\n",
       "      <th>Win %</th>\n",
       "      <th>Goals For (GF)</th>\n",
       "      <th>Goals Against (GA)</th>\n",
       "      <th>+ / -</th>\n",
       "    </tr>\n",
       "  </thead>\n",
       "  <tbody>\n",
       "    <tr>\n",
       "      <th>0</th>\n",
       "      <td>Boston Bruins</td>\n",
       "      <td>1990</td>\n",
       "      <td>44</td>\n",
       "      <td>24</td>\n",
       "      <td>NaN</td>\n",
       "      <td>0.550</td>\n",
       "      <td>299</td>\n",
       "      <td>264</td>\n",
       "      <td>35</td>\n",
       "    </tr>\n",
       "    <tr>\n",
       "      <th>1</th>\n",
       "      <td>Buffalo Sabres</td>\n",
       "      <td>1990</td>\n",
       "      <td>31</td>\n",
       "      <td>30</td>\n",
       "      <td>NaN</td>\n",
       "      <td>0.388</td>\n",
       "      <td>292</td>\n",
       "      <td>278</td>\n",
       "      <td>14</td>\n",
       "    </tr>\n",
       "    <tr>\n",
       "      <th>2</th>\n",
       "      <td>Calgary Flames</td>\n",
       "      <td>1990</td>\n",
       "      <td>46</td>\n",
       "      <td>26</td>\n",
       "      <td>NaN</td>\n",
       "      <td>0.575</td>\n",
       "      <td>344</td>\n",
       "      <td>263</td>\n",
       "      <td>81</td>\n",
       "    </tr>\n",
       "    <tr>\n",
       "      <th>3</th>\n",
       "      <td>Chicago Blackhawks</td>\n",
       "      <td>1990</td>\n",
       "      <td>49</td>\n",
       "      <td>23</td>\n",
       "      <td>NaN</td>\n",
       "      <td>0.613</td>\n",
       "      <td>284</td>\n",
       "      <td>211</td>\n",
       "      <td>73</td>\n",
       "    </tr>\n",
       "    <tr>\n",
       "      <th>4</th>\n",
       "      <td>Detroit Red Wings</td>\n",
       "      <td>1990</td>\n",
       "      <td>34</td>\n",
       "      <td>38</td>\n",
       "      <td>NaN</td>\n",
       "      <td>0.425</td>\n",
       "      <td>273</td>\n",
       "      <td>298</td>\n",
       "      <td>-25</td>\n",
       "    </tr>\n",
       "  </tbody>\n",
       "</table>\n",
       "</div>"
      ],
      "text/plain": [
       "            Team Name  Year  Wins  Losses  OT Losses  Win %  Goals For (GF)  \\\n",
       "0       Boston Bruins  1990    44      24        NaN  0.550             299   \n",
       "1      Buffalo Sabres  1990    31      30        NaN  0.388             292   \n",
       "2      Calgary Flames  1990    46      26        NaN  0.575             344   \n",
       "3  Chicago Blackhawks  1990    49      23        NaN  0.613             284   \n",
       "4   Detroit Red Wings  1990    34      38        NaN  0.425             273   \n",
       "\n",
       "   Goals Against (GA)  + / -  \n",
       "0                 264     35  \n",
       "1                 278     14  \n",
       "2                 263     81  \n",
       "3                 211     73  \n",
       "4                 298    -25  "
      ]
     },
     "execution_count": 5,
     "metadata": {},
     "output_type": "execute_result"
    }
   ],
   "source": [
    "# Concatenate the tables together and display. \n",
    "\n",
    "final_df = pd.concat(dataframes)\n",
    "final_df.head()"
   ]
  },
  {
   "cell_type": "code",
   "execution_count": 6,
   "id": "9186ca78",
   "metadata": {},
   "outputs": [],
   "source": [
    "# Remove the column, 'OT Losses', as its values are null. \n",
    "\n",
    "cleaned_df = final_df.drop(columns=['OT Losses'])"
   ]
  },
  {
   "cell_type": "code",
   "execution_count": 7,
   "id": "e19aac75",
   "metadata": {},
   "outputs": [
    {
     "data": {
      "text/plain": [
       "Team Name             0\n",
       "Year                  0\n",
       "Wins                  0\n",
       "Losses                0\n",
       "Win %                 0\n",
       "Goals For (GF)        0\n",
       "Goals Against (GA)    0\n",
       "+ / -                 0\n",
       "dtype: int64"
      ]
     },
     "execution_count": 7,
     "metadata": {},
     "output_type": "execute_result"
    }
   ],
   "source": [
    "# Check to find any remaining null values.\n",
    "\n",
    "cleaned_df.isnull().sum()"
   ]
  },
  {
   "cell_type": "code",
   "execution_count": 8,
   "id": "b0a7932b",
   "metadata": {},
   "outputs": [
    {
     "data": {
      "text/plain": [
       "Team Name              object\n",
       "Year                    int64\n",
       "Wins                    int64\n",
       "Losses                  int64\n",
       "Win %                 float64\n",
       "Goals For (GF)          int64\n",
       "Goals Against (GA)      int64\n",
       "+ / -                   int64\n",
       "dtype: object"
      ]
     },
     "execution_count": 8,
     "metadata": {},
     "output_type": "execute_result"
    }
   ],
   "source": [
    "# Check the data types for each column. \n",
    "\n",
    "cleaned_df.dtypes"
   ]
  },
  {
   "cell_type": "code",
   "execution_count": 9,
   "id": "7d7cca12",
   "metadata": {},
   "outputs": [
    {
     "data": {
      "text/html": [
       "<div>\n",
       "<style scoped>\n",
       "    .dataframe tbody tr th:only-of-type {\n",
       "        vertical-align: middle;\n",
       "    }\n",
       "\n",
       "    .dataframe tbody tr th {\n",
       "        vertical-align: top;\n",
       "    }\n",
       "\n",
       "    .dataframe thead th {\n",
       "        text-align: right;\n",
       "    }\n",
       "</style>\n",
       "<table border=\"1\" class=\"dataframe\">\n",
       "  <thead>\n",
       "    <tr style=\"text-align: right;\">\n",
       "      <th></th>\n",
       "      <th>Team Name</th>\n",
       "      <th>Year</th>\n",
       "      <th>Wins</th>\n",
       "      <th>Losses</th>\n",
       "      <th>Win %</th>\n",
       "      <th>Goals For (GF)</th>\n",
       "      <th>Goals Against (GA)</th>\n",
       "      <th>+ / -</th>\n",
       "    </tr>\n",
       "  </thead>\n",
       "  <tbody>\n",
       "    <tr>\n",
       "      <th>0</th>\n",
       "      <td>Boston Bruins</td>\n",
       "      <td>1990</td>\n",
       "      <td>44</td>\n",
       "      <td>24</td>\n",
       "      <td>0.550</td>\n",
       "      <td>299</td>\n",
       "      <td>264</td>\n",
       "      <td>35</td>\n",
       "    </tr>\n",
       "    <tr>\n",
       "      <th>1</th>\n",
       "      <td>Buffalo Sabres</td>\n",
       "      <td>1990</td>\n",
       "      <td>31</td>\n",
       "      <td>30</td>\n",
       "      <td>0.388</td>\n",
       "      <td>292</td>\n",
       "      <td>278</td>\n",
       "      <td>14</td>\n",
       "    </tr>\n",
       "    <tr>\n",
       "      <th>2</th>\n",
       "      <td>Calgary Flames</td>\n",
       "      <td>1990</td>\n",
       "      <td>46</td>\n",
       "      <td>26</td>\n",
       "      <td>0.575</td>\n",
       "      <td>344</td>\n",
       "      <td>263</td>\n",
       "      <td>81</td>\n",
       "    </tr>\n",
       "    <tr>\n",
       "      <th>3</th>\n",
       "      <td>Chicago Blackhawks</td>\n",
       "      <td>1990</td>\n",
       "      <td>49</td>\n",
       "      <td>23</td>\n",
       "      <td>0.613</td>\n",
       "      <td>284</td>\n",
       "      <td>211</td>\n",
       "      <td>73</td>\n",
       "    </tr>\n",
       "    <tr>\n",
       "      <th>4</th>\n",
       "      <td>Detroit Red Wings</td>\n",
       "      <td>1990</td>\n",
       "      <td>34</td>\n",
       "      <td>38</td>\n",
       "      <td>0.425</td>\n",
       "      <td>273</td>\n",
       "      <td>298</td>\n",
       "      <td>-25</td>\n",
       "    </tr>\n",
       "  </tbody>\n",
       "</table>\n",
       "</div>"
      ],
      "text/plain": [
       "            Team Name  Year  Wins  Losses  Win %  Goals For (GF)  \\\n",
       "0       Boston Bruins  1990    44      24  0.550             299   \n",
       "1      Buffalo Sabres  1990    31      30  0.388             292   \n",
       "2      Calgary Flames  1990    46      26  0.575             344   \n",
       "3  Chicago Blackhawks  1990    49      23  0.613             284   \n",
       "4   Detroit Red Wings  1990    34      38  0.425             273   \n",
       "\n",
       "   Goals Against (GA)  + / -  \n",
       "0                 264     35  \n",
       "1                 278     14  \n",
       "2                 263     81  \n",
       "3                 211     73  \n",
       "4                 298    -25  "
      ]
     },
     "execution_count": 9,
     "metadata": {},
     "output_type": "execute_result"
    }
   ],
   "source": [
    "# Display the cleaned DataFrame.\n",
    "\n",
    "cleaned_df.head()"
   ]
  },
  {
   "cell_type": "code",
   "execution_count": 10,
   "id": "12fd6737",
   "metadata": {},
   "outputs": [
    {
     "data": {
      "text/html": [
       "<div>\n",
       "<style scoped>\n",
       "    .dataframe tbody tr th:only-of-type {\n",
       "        vertical-align: middle;\n",
       "    }\n",
       "\n",
       "    .dataframe tbody tr th {\n",
       "        vertical-align: top;\n",
       "    }\n",
       "\n",
       "    .dataframe thead th {\n",
       "        text-align: right;\n",
       "    }\n",
       "</style>\n",
       "<table border=\"1\" class=\"dataframe\">\n",
       "  <thead>\n",
       "    <tr style=\"text-align: right;\">\n",
       "      <th></th>\n",
       "      <th>Team Name</th>\n",
       "      <th>Year</th>\n",
       "      <th>Wins</th>\n",
       "      <th>Losses</th>\n",
       "      <th>Win %</th>\n",
       "      <th>Goals For (GF)</th>\n",
       "      <th>Goals Against (GA)</th>\n",
       "      <th>+ / -</th>\n",
       "    </tr>\n",
       "  </thead>\n",
       "  <tbody>\n",
       "    <tr>\n",
       "      <th>0</th>\n",
       "      <td>Boston Bruins</td>\n",
       "      <td>1990</td>\n",
       "      <td>44</td>\n",
       "      <td>24</td>\n",
       "      <td>0.550</td>\n",
       "      <td>299</td>\n",
       "      <td>264</td>\n",
       "      <td>35</td>\n",
       "    </tr>\n",
       "    <tr>\n",
       "      <th>1</th>\n",
       "      <td>Buffalo Sabres</td>\n",
       "      <td>1990</td>\n",
       "      <td>31</td>\n",
       "      <td>30</td>\n",
       "      <td>0.388</td>\n",
       "      <td>292</td>\n",
       "      <td>278</td>\n",
       "      <td>14</td>\n",
       "    </tr>\n",
       "    <tr>\n",
       "      <th>2</th>\n",
       "      <td>Calgary Flames</td>\n",
       "      <td>1990</td>\n",
       "      <td>46</td>\n",
       "      <td>26</td>\n",
       "      <td>0.575</td>\n",
       "      <td>344</td>\n",
       "      <td>263</td>\n",
       "      <td>81</td>\n",
       "    </tr>\n",
       "    <tr>\n",
       "      <th>3</th>\n",
       "      <td>Chicago Blackhawks</td>\n",
       "      <td>1990</td>\n",
       "      <td>49</td>\n",
       "      <td>23</td>\n",
       "      <td>0.613</td>\n",
       "      <td>284</td>\n",
       "      <td>211</td>\n",
       "      <td>73</td>\n",
       "    </tr>\n",
       "    <tr>\n",
       "      <th>4</th>\n",
       "      <td>Detroit Red Wings</td>\n",
       "      <td>1990</td>\n",
       "      <td>34</td>\n",
       "      <td>38</td>\n",
       "      <td>0.425</td>\n",
       "      <td>273</td>\n",
       "      <td>298</td>\n",
       "      <td>-25</td>\n",
       "    </tr>\n",
       "  </tbody>\n",
       "</table>\n",
       "</div>"
      ],
      "text/plain": [
       "            Team Name  Year  Wins  Losses  Win %  Goals For (GF)  \\\n",
       "0       Boston Bruins  1990    44      24  0.550             299   \n",
       "1      Buffalo Sabres  1990    31      30  0.388             292   \n",
       "2      Calgary Flames  1990    46      26  0.575             344   \n",
       "3  Chicago Blackhawks  1990    49      23  0.613             284   \n",
       "4   Detroit Red Wings  1990    34      38  0.425             273   \n",
       "\n",
       "   Goals Against (GA)  + / -  \n",
       "0                 264     35  \n",
       "1                 278     14  \n",
       "2                 263     81  \n",
       "3                 211     73  \n",
       "4                 298    -25  "
      ]
     },
     "execution_count": 10,
     "metadata": {},
     "output_type": "execute_result"
    }
   ],
   "source": [
    "# Extract only the first 25 rows or the first table.\n",
    "\n",
    "first_page = cleaned_df[0:25]\n",
    "first_page.head()"
   ]
  },
  {
   "cell_type": "code",
   "execution_count": 11,
   "id": "1744411b",
   "metadata": {},
   "outputs": [],
   "source": [
    "# Import additional dependencies for plotting. \n",
    "\n",
    "import seaborn as sns\n",
    "import matplotlib.pyplot as plt"
   ]
  },
  {
   "cell_type": "code",
   "execution_count": 12,
   "id": "d948f19c",
   "metadata": {},
   "outputs": [
    {
     "data": {
      "image/png": "[encoded data removed]",
      "text/plain": [
       "<Figure size 1200x600 with 1 Axes>"
      ]
     },
     "metadata": {},
     "output_type": "display_data"
    }
   ],
   "source": [
    "# Sample plotting. \n",
    "\n",
    "melted_df = pd.melt(first_page, id_vars=['Team Name', 'Year'], var_name='Metric', value_name='Value')\n",
    "\n",
    "# Create the grouped bar chart using Seaborn\n",
    "plt.figure(figsize=(12, 6))\n",
    "sns.barplot(data=melted_df, x='Team Name', y='Value', hue='Metric')\n",
    "plt.xticks(rotation=90)  # Rotate x-axis labels for better readability\n",
    "plt.xlabel('Team Name')\n",
    "plt.ylabel('Value')\n",
    "plt.title('Team Performance Metrics')\n",
    "plt.legend(title='Metric', bbox_to_anchor=(1.05, 1), loc='upper left')\n",
    "\n",
    "# Show the plot\n",
    "plt.tight_layout()\n",
    "plt.show()"
   ]
  }
 ],
 "metadata": {
  "kernelspec": {
   "display_name": "Python 3 (ipykernel)",
   "language": "python",
   "name": "python3"
  },
  "language_info": {
   "codemirror_mode": {
    "name": "ipython",
    "version": 3
   },
   "file_extension": ".py",
   "mimetype": "text/x-python",
   "name": "python",
   "nbconvert_exporter": "python",
   "pygments_lexer": "ipython3",
   "version": "3.10.12"
  }
 },
 "nbformat": 4,
 "nbformat_minor": 5
}
