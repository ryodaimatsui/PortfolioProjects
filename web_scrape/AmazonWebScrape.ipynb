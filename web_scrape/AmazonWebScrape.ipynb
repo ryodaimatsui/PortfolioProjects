{
 "cells": [
  {
   "cell_type": "markdown",
   "id": "a5f4aa75",
   "metadata": {},
   "source": [
    "# Amazon Web Scrape: Data Science Apparel "
   ]
  },
  {
   "cell_type": "code",
   "execution_count": 1,
   "id": "571fc4fb",
   "metadata": {},
   "outputs": [],
   "source": [
    "# Import dependencies.\n",
    "\n",
    "from bs4 import BeautifulSoup\n",
    "import requests\n",
    "import time\n",
    "import datetime\n",
    "import smtplib\n"
   ]
  },
  {
   "cell_type": "code",
   "execution_count": 2,
   "id": "0eb0dfea",
   "metadata": {
    "scrolled": false
   },
   "outputs": [],
   "source": [
    "# Connecting to website.\n",
    "\n",
    "url = 'https://www.amazon.com/Funny-Data-Systems-Business-Analyst/dp/B07FNW9FGJ?customId=B0752XJYNL&customizationToken=MC_Assembly_1%23B0752XJYNL&th=1'\n",
    "\n",
    "# Headers does not work in this case.\n",
    "# headers = {\"User-Agent\":\"Mozilla/5.0 (Windows NT 10.0; Win64; x64; rv:66.0) Gecko/20100101 Firefox/66.0\", \"Accept-Encoding\":\"gzip, deflate\", \"Accept\":\"text/html,application/xhtml+xml,application/xml;q=0.9,*/*;q=0.8\", \"DNT\":\"1\",\"Connection\":\"close\", \"Upgrade-Insecure-Requests\":\"1\"} \n",
    "\n",
    "page = requests.get(url)\n",
    "\n",
    "soup = BeautifulSoup(page.content, 'html.parser')"
   ]
  },
  {
   "cell_type": "code",
   "execution_count": 3,
   "id": "fd13bdc5",
   "metadata": {
    "scrolled": true
   },
   "outputs": [],
   "source": [
    "# Use the following code to print the soup to check that the url was retrieved properly.\n",
    "\n",
    "# print(soup.prettify())"
   ]
  },
  {
   "cell_type": "code",
   "execution_count": 4,
   "id": "98bed551",
   "metadata": {
    "scrolled": false
   },
   "outputs": [
    {
     "name": "stdout",
     "output_type": "stream",
     "text": [
      "Funny Got Data MIS Data Systems Business Analyst T-Shirt\n"
     ]
    }
   ],
   "source": [
    "# Extracting the product title.\n",
    "\n",
    "title = soup.find(id='productTitle').get_text().strip()\n",
    "print(title)"
   ]
  },
  {
   "cell_type": "code",
   "execution_count": 5,
   "id": "8e2ffe52",
   "metadata": {},
   "outputs": [
    {
     "name": "stdout",
     "output_type": "stream",
     "text": [
      "Climate Pledge Friendly\n"
     ]
    }
   ],
   "source": [
    "# Extracting Amazon's pledge.\n",
    "\n",
    "pledge = soup.find(id='climatePledgeFriendlyBadge').get_text().strip()\n",
    "print(pledge)"
   ]
  },
  {
   "cell_type": "code",
   "execution_count": 6,
   "id": "8c21ba62",
   "metadata": {},
   "outputs": [
    {
     "name": "stdout",
     "output_type": "stream",
     "text": [
      "$19.99\n"
     ]
    }
   ],
   "source": [
    "# Extracting the product price. \n",
    "\n",
    "price_element = soup.select_one('span.a-price').select_one('span.a-offscreen')\n",
    "price = price_element.text\n",
    "print(price)"
   ]
  },
  {
   "cell_type": "code",
   "execution_count": 7,
   "id": "8142ca73",
   "metadata": {},
   "outputs": [],
   "source": [
    "# Extracting the different product sizes.\n",
    "\n",
    "# Create an empty list to store the sizes.\n",
    "\n",
    "fit_sizes = []\n",
    "\n",
    "# Use a For Loop to iterate through all 5 sizes and extract the texts.\n",
    "\n",
    "for i in range(5):  \n",
    "    fit_id = f\"fit_type_{i}\"\n",
    "    fit_element = soup.find(id=fit_id).text.strip()\n",
    "    \n",
    "    if fit_element:\n",
    "        fit_size = fit_element\n",
    "        fit_sizes.append(fit_size)\n",
    "    else:\n",
    "        print(f\"No fit size found with ID {fit_id}\")"
   ]
  },
  {
   "cell_type": "code",
   "execution_count": 8,
   "id": "755624e2",
   "metadata": {},
   "outputs": [
    {
     "name": "stdout",
     "output_type": "stream",
     "text": [
      "4.3 \n"
     ]
    }
   ],
   "source": [
    "# Extracting the rating of the product. \n",
    "\n",
    "rating_element = soup.find(id='acrPopover')\n",
    "rating_text = rating_element.attrs.get('title')\n",
    "rating_text = rating_text.replace('out of 5 stars', \"\")\n",
    "print(rating_text)"
   ]
  },
  {
   "cell_type": "code",
   "execution_count": 9,
   "id": "78a16dd3",
   "metadata": {},
   "outputs": [],
   "source": [
    "# Extracting customer reviews.\n",
    "\n",
    "review_elements = soup.select('div.review')\n",
    "\n",
    "scraped_reviews = []\n",
    "\n",
    "for review in review_elements:\n",
    "    r_name_element = review.select_one('span.a-profile-name')\n",
    "    r_name = r_name_element.text.strip() if r_name_element else None\n",
    "    \n",
    "    r_rating_element = review.select_one('i.review-rating')\n",
    "    r_rating = r_rating_element.text.strip().replace(\"out of 5 stars\", \"\") if r_rating_element else None\n",
    "    \n",
    "    r_title_element = review.select_one('a.review-title')\n",
    "    r_title_span_element = r_title_element.select_one('span:not([class])') if r_title_element else None\n",
    "    r_title = r_title_span_element.text.strip() if r_title_span_element else None\n",
    "    \n",
    "    r_content_element = review.select_one('span.review-text')\n",
    "    r_content = r_content_element.text.strip().replace('\\nRead more', '') if r_content_element else None\n",
    "    \n",
    "    r_date_element = review.select_one('span.review-date')\n",
    "    r_date = r_date_element.text.strip() if r_date_element else None\n",
    "    \n",
    "    r_verified_element = review.select_one('span.a-size-mini')\n",
    "    r_verified = r_verified_element.text.strip() if r_verified_element else None\n",
    "    \n",
    "    r = {\n",
    "        'author': r_name,\n",
    "        'rating': r_rating,\n",
    "        'title': r_title,\n",
    "        'content': r_content,\n",
    "        'date': r_date,\n",
    "        'verified': r_verified\n",
    "    }\n",
    "    \n",
    "    scraped_reviews.append(r)\n"
   ]
  },
  {
   "cell_type": "code",
   "execution_count": 10,
   "id": "78bc6630",
   "metadata": {},
   "outputs": [
    {
     "name": "stdout",
     "output_type": "stream",
     "text": [
      "Author: SB\n",
      "Rating: 5.0 \n",
      "Title: Very soft T\n",
      "Content: This shirt is so comfortable.\n",
      "Date: Reviewed in the United States on October 31, 2021\n",
      "Verified: Verified Purchase\n",
      "_____________________________ 1\n",
      "Author: Liana Doyle\n",
      "Rating: 5.0 \n",
      "Title: Great gift\n",
      "Content: Soft and fits true to size !\n",
      "Date: Reviewed in the United States on January 8, 2019\n",
      "Verified: Verified Purchase\n",
      "_____________________________ 2\n",
      "Author: MSA\n",
      "Rating: 1.0 \n",
      "Title: The printing is horrible and the t-shirt was dusty when it came to me.\n",
      "Content: The printing is really bad the cotton in the T-shirt was really bad. I got this as a gift and I was embarrassed to give it to my friend.\n",
      "Date: Reviewed in the United States on April 15, 2023\n",
      "Verified: Verified Purchase\n",
      "_____________________________ 3\n"
     ]
    }
   ],
   "source": [
    "# Print the scraped reviews.\n",
    "\n",
    "for count, review in enumerate(scraped_reviews, start=1):\n",
    "    print(\"Author:\", review['author'])\n",
    "    print(\"Rating:\", review['rating'])\n",
    "    print(\"Title:\", review['title'])\n",
    "    print(\"Content:\", review['content'])\n",
    "    print(\"Date:\", review['date'])\n",
    "    print(\"Verified:\", review['verified'])\n",
    "    print('_____________________________', count)\n"
   ]
  },
  {
   "cell_type": "code",
   "execution_count": null,
   "id": "526b6180",
   "metadata": {},
   "outputs": [],
   "source": []
  }
 ],
 "metadata": {
  "kernelspec": {
   "display_name": "Python 3 (ipykernel)",
   "language": "python",
   "name": "python3"
  },
  "language_info": {
   "codemirror_mode": {
    "name": "ipython",
    "version": 3
   },
   "file_extension": ".py",
   "mimetype": "text/x-python",
   "name": "python",
   "nbconvert_exporter": "python",
   "pygments_lexer": "ipython3",
   "version": "3.10.12"
  }
 },
 "nbformat": 4,
 "nbformat_minor": 5
}
